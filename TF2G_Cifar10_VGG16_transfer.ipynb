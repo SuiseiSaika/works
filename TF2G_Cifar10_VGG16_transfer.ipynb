{
  "nbformat": 4,
  "nbformat_minor": 0,
  "metadata": {
    "colab": {
      "name": "TF2G_Cifar10_VGG16_transfer",
      "provenance": [],
      "collapsed_sections": []
    },
    "kernelspec": {
      "name": "python3",
      "display_name": "Python 3"
    },
    "accelerator": "GPU"
  },
  "cells": [
    {
      "cell_type": "code",
      "metadata": {
        "id": "n0iYz-o0ie1u",
        "colab_type": "code",
        "colab": {}
      },
      "source": [
        "from __future__ import absolute_import, division, print_function, unicode_literals\n",
        "from tensorflow.keras import datasets, layers, models, optimizers, initializers, regularizers, preprocessing, callbacks\n",
        "from google.colab import files\n",
        "from tensorflow.keras.applications.vgg16 import VGG16\n",
        "from tensorflow.keras.models import Model\n",
        "import numpy as np\n",
        "import pandas as pd\n",
        "import matplotlib.pyplot as plt\n"
      ],
      "execution_count": 0,
      "outputs": []
    },
    {
      "cell_type": "code",
      "metadata": {
        "id": "u_VMCswMiliw",
        "colab_type": "code",
        "outputId": "64a0517b-8721-4fe7-f10a-5020574ac7f5",
        "colab": {
          "base_uri": "https://localhost:8080/",
          "height": 51
        }
      },
      "source": [
        "(train_images, train_labels), (test_images, test_labels) = datasets.cifar10.load_data()\n",
        "# Normalize pixel values to be between 0 and 1\n",
        "train_images, test_images = train_images / 255.0, test_images / 255.0"
      ],
      "execution_count": 2,
      "outputs": [
        {
          "output_type": "stream",
          "text": [
            "Downloading data from https://www.cs.toronto.edu/~kriz/cifar-10-python.tar.gz\n",
            "170500096/170498071 [==============================] - 2s 0us/step\n"
          ],
          "name": "stdout"
        }
      ]
    },
    {
      "cell_type": "code",
      "metadata": {
        "id": "78vAKpPmXaUL",
        "colab_type": "code",
        "outputId": "70328580-f805-4dde-ac30-7f7b8a782638",
        "colab": {
          "base_uri": "https://localhost:8080/",
          "height": 51
        }
      },
      "source": [
        "model = models.Sequential()\n",
        "model.add(VGG16(weights='imagenet', include_top=False, input_shape=(32, 32, 3)))\n",
        "model.add(layers.GlobalAveragePooling2D())\n",
        "model.add(layers.Dense(10, activation='softmax'))"
      ],
      "execution_count": 3,
      "outputs": [
        {
          "output_type": "stream",
          "text": [
            "Downloading data from https://storage.googleapis.com/tensorflow/keras-applications/vgg16/vgg16_weights_tf_dim_ordering_tf_kernels_notop.h5\n",
            "58892288/58889256 [==============================] - 1s 0us/step\n"
          ],
          "name": "stdout"
        }
      ]
    },
    {
      "cell_type": "code",
      "metadata": {
        "id": "PotDD9JBilqo",
        "colab_type": "code",
        "colab": {
          "base_uri": "https://localhost:8080/",
          "height": 255
        },
        "outputId": "bd97c141-6b34-4d91-9cb4-fdfcc386c7ad"
      },
      "source": [
        "model.summary()"
      ],
      "execution_count": 4,
      "outputs": [
        {
          "output_type": "stream",
          "text": [
            "Model: \"sequential\"\n",
            "_________________________________________________________________\n",
            "Layer (type)                 Output Shape              Param #   \n",
            "=================================================================\n",
            "vgg16 (Model)                (None, 1, 1, 512)         14714688  \n",
            "_________________________________________________________________\n",
            "global_average_pooling2d (Gl (None, 512)               0         \n",
            "_________________________________________________________________\n",
            "dense (Dense)                (None, 10)                5130      \n",
            "=================================================================\n",
            "Total params: 14,719,818\n",
            "Trainable params: 14,719,818\n",
            "Non-trainable params: 0\n",
            "_________________________________________________________________\n"
          ],
          "name": "stdout"
        }
      ]
    },
    {
      "cell_type": "code",
      "metadata": {
        "id": "GRsHzWwJiltH",
        "colab_type": "code",
        "colab": {
          "base_uri": "https://localhost:8080/",
          "height": 697
        },
        "outputId": "2c3b3915-b830-4c81-ec49-993253e254ca"
      },
      "source": [
        "NAG = optimizers.SGD(lr=0.01, decay=5e-4, momentum=0.9, nesterov=True)\n",
        "\n",
        "batch = 128\n",
        "epoch = 20\n",
        "\n",
        "model.compile(optimizer= NAG ,\n",
        "              loss='sparse_categorical_crossentropy',\n",
        "              metrics=['accuracy'])\n",
        "early_stop = callbacks.EarlyStopping(monitor='loss', patience=3, verbose=2)\n",
        "\n",
        "history = model.fit(train_images, train_labels,\n",
        "                    epochs=epoch, verbose = 2,\n",
        "                    batch_size=batch,\n",
        "                    validation_data=(test_images, test_labels),\n",
        "                    callbacks=[early_stop])"
      ],
      "execution_count": 5,
      "outputs": [
        {
          "output_type": "stream",
          "text": [
            "Epoch 1/20\n",
            "391/391 - 48s - loss: 1.5262 - accuracy: 0.4371 - val_loss: 0.8873 - val_accuracy: 0.6848\n",
            "Epoch 2/20\n",
            "391/391 - 47s - loss: 0.5788 - accuracy: 0.8005 - val_loss: 0.5731 - val_accuracy: 0.8031\n",
            "Epoch 3/20\n",
            "391/391 - 47s - loss: 0.3919 - accuracy: 0.8664 - val_loss: 0.4632 - val_accuracy: 0.8442\n",
            "Epoch 4/20\n",
            "391/391 - 47s - loss: 0.2774 - accuracy: 0.9037 - val_loss: 0.4578 - val_accuracy: 0.8547\n",
            "Epoch 5/20\n",
            "391/391 - 47s - loss: 0.1898 - accuracy: 0.9357 - val_loss: 0.4906 - val_accuracy: 0.8501\n",
            "Epoch 6/20\n",
            "391/391 - 47s - loss: 0.1190 - accuracy: 0.9600 - val_loss: 0.4787 - val_accuracy: 0.8616\n",
            "Epoch 7/20\n",
            "391/391 - 47s - loss: 0.0758 - accuracy: 0.9748 - val_loss: 0.5413 - val_accuracy: 0.8644\n",
            "Epoch 8/20\n",
            "391/391 - 47s - loss: 0.0507 - accuracy: 0.9824 - val_loss: 0.5827 - val_accuracy: 0.8598\n",
            "Epoch 9/20\n",
            "391/391 - 47s - loss: 0.0292 - accuracy: 0.9907 - val_loss: 0.6517 - val_accuracy: 0.8600\n",
            "Epoch 10/20\n",
            "391/391 - 47s - loss: 0.0198 - accuracy: 0.9938 - val_loss: 0.7732 - val_accuracy: 0.8569\n",
            "Epoch 11/20\n",
            "391/391 - 47s - loss: 0.0158 - accuracy: 0.9951 - val_loss: 0.7587 - val_accuracy: 0.8620\n",
            "Epoch 12/20\n",
            "391/391 - 47s - loss: 0.0074 - accuracy: 0.9980 - val_loss: 0.7799 - val_accuracy: 0.8659\n",
            "Epoch 13/20\n",
            "391/391 - 47s - loss: 0.0015 - accuracy: 0.9998 - val_loss: 0.7932 - val_accuracy: 0.8747\n",
            "Epoch 14/20\n",
            "391/391 - 47s - loss: 2.4640e-04 - accuracy: 1.0000 - val_loss: 0.8134 - val_accuracy: 0.8747\n",
            "Epoch 15/20\n",
            "391/391 - 47s - loss: 1.5419e-04 - accuracy: 1.0000 - val_loss: 0.8322 - val_accuracy: 0.8748\n",
            "Epoch 16/20\n",
            "391/391 - 47s - loss: 1.2343e-04 - accuracy: 1.0000 - val_loss: 0.8467 - val_accuracy: 0.8755\n",
            "Epoch 17/20\n",
            "391/391 - 47s - loss: 1.0459e-04 - accuracy: 1.0000 - val_loss: 0.8602 - val_accuracy: 0.8754\n",
            "Epoch 18/20\n",
            "391/391 - 47s - loss: 9.1781e-05 - accuracy: 1.0000 - val_loss: 0.8708 - val_accuracy: 0.8753\n",
            "Epoch 19/20\n",
            "391/391 - 48s - loss: 8.2042e-05 - accuracy: 1.0000 - val_loss: 0.8802 - val_accuracy: 0.8754\n",
            "Epoch 20/20\n",
            "391/391 - 48s - loss: 7.4698e-05 - accuracy: 1.0000 - val_loss: 0.8885 - val_accuracy: 0.8751\n"
          ],
          "name": "stdout"
        }
      ]
    },
    {
      "cell_type": "code",
      "metadata": {
        "id": "pfPK7nDbYqrL",
        "colab_type": "code",
        "colab": {
          "base_uri": "https://localhost:8080/",
          "height": 296
        },
        "outputId": "8d379694-e17d-4199-9a88-ebad7e9da530"
      },
      "source": [
        "plt.plot(history.history['accuracy'], label='accuracy')\n",
        "plt.plot(history.history['val_accuracy'], label = 'val_accuracy')\n",
        "plt.xlabel('Epoch')\n",
        "plt.ylabel('Accuracy')\n",
        "plt.legend(loc='lower right')\n",
        "test_loss, test_acc = model.evaluate(test_images,  test_labels, verbose=2)"
      ],
      "execution_count": 10,
      "outputs": [
        {
          "output_type": "stream",
          "text": [
            "313/313 - 6s - loss: 0.8885 - accuracy: 0.8751\n"
          ],
          "name": "stdout"
        },
        {
          "output_type": "display_data",
          "data": {
            "image/png": "[encoded data removed]",
            "text/plain": [
              "<Figure size 432x288 with 1 Axes>"
            ]
          },
          "metadata": {
            "tags": [],
            "needs_background": "light"
          }
        }
      ]
    },
    {
      "cell_type": "code",
      "metadata": {
        "id": "JY8A9Yj7ZYkM",
        "colab_type": "code",
        "colab": {
          "base_uri": "https://localhost:8080/",
          "height": 300
        },
        "outputId": "0a2be10c-f62c-453a-dc5c-c660ee65680c"
      },
      "source": [
        "plt.plot(history.history['loss'], label='loss_1')\n",
        "plt.plot(history.history['val_loss'], label = 'val_loss_1')\n",
        "plt.xlabel('Epoch')\n",
        "plt.ylabel('loss')\n",
        "plt.legend(loc='upper right')"
      ],
      "execution_count": 11,
      "outputs": [
        {
          "output_type": "execute_result",
          "data": {
            "text/plain": [
              "<matplotlib.legend.Legend at 0x7f38ca9adcc0>"
            ]
          },
          "metadata": {
            "tags": []
          },
          "execution_count": 11
        },
        {
          "output_type": "display_data",
          "data": {
            "image/png": "[encoded data removed]",
            "text/plain": [
              "<Figure size 432x288 with 1 Axes>"
            ]
          },
          "metadata": {
            "tags": [],
            "needs_background": "light"
          }
        }
      ]
    },
    {
      "cell_type": "code",
      "metadata": {
        "id": "gEBlxTYya8O2",
        "colab_type": "code",
        "colab": {}
      },
      "source": [
        "model_freeze = models.Sequential()\n",
        "conv = VGG16(weights='imagenet', include_top=False, input_shape=(32, 32, 3))\n",
        "for layer in conv.layers:\n",
        "  layer.trainable = False\n",
        "  model_freeze.add(layer)\n",
        "  model_freeze.add(layers.Activation('elu'))\n",
        "model_freeze.add(layers.GlobalAveragePooling2D())\n",
        "model_freeze.add(layers.Dense(10, activation='softmax'))"
      ],
      "execution_count": 0,
      "outputs": []
    },
    {
      "cell_type": "code",
      "metadata": {
        "id": "5WWZDPvOeSTk",
        "colab_type": "code",
        "colab": {
          "base_uri": "https://localhost:8080/",
          "height": 1000
        },
        "outputId": "9ce875e6-c65c-4576-dabb-45fec325e2ce"
      },
      "source": [
        "model_freeze.summary()"
      ],
      "execution_count": 14,
      "outputs": [
        {
          "output_type": "stream",
          "text": [
            "Model: \"sequential_1\"\n",
            "_________________________________________________________________\n",
            "Layer (type)                 Output Shape              Param #   \n",
            "=================================================================\n",
            "activation (Activation)      (None, 32, 32, 3)         0         \n",
            "_________________________________________________________________\n",
            "block1_conv1 (Conv2D)        (None, 32, 32, 64)        1792      \n",
            "_________________________________________________________________\n",
            "activation_1 (Activation)    (None, 32, 32, 64)        0         \n",
            "_________________________________________________________________\n",
            "block1_conv2 (Conv2D)        (None, 32, 32, 64)        36928     \n",
            "_________________________________________________________________\n",
            "activation_2 (Activation)    (None, 32, 32, 64)        0         \n",
            "_________________________________________________________________\n",
            "block1_pool (MaxPooling2D)   (None, 16, 16, 64)        0         \n",
            "_________________________________________________________________\n",
            "activation_3 (Activation)    (None, 16, 16, 64)        0         \n",
            "_________________________________________________________________\n",
            "block2_conv1 (Conv2D)        (None, 16, 16, 128)       73856     \n",
            "_________________________________________________________________\n",
            "activation_4 (Activation)    (None, 16, 16, 128)       0         \n",
            "_________________________________________________________________\n",
            "block2_conv2 (Conv2D)        (None, 16, 16, 128)       147584    \n",
            "_________________________________________________________________\n",
            "activation_5 (Activation)    (None, 16, 16, 128)       0         \n",
            "_________________________________________________________________\n",
            "block2_pool (MaxPooling2D)   (None, 8, 8, 128)         0         \n",
            "_________________________________________________________________\n",
            "activation_6 (Activation)    (None, 8, 8, 128)         0         \n",
            "_________________________________________________________________\n",
            "block3_conv1 (Conv2D)        (None, 8, 8, 256)         295168    \n",
            "_________________________________________________________________\n",
            "activation_7 (Activation)    (None, 8, 8, 256)         0         \n",
            "_________________________________________________________________\n",
            "block3_conv2 (Conv2D)        (None, 8, 8, 256)         590080    \n",
            "_________________________________________________________________\n",
            "activation_8 (Activation)    (None, 8, 8, 256)         0         \n",
            "_________________________________________________________________\n",
            "block3_conv3 (Conv2D)        (None, 8, 8, 256)         590080    \n",
            "_________________________________________________________________\n",
            "activation_9 (Activation)    (None, 8, 8, 256)         0         \n",
            "_________________________________________________________________\n",
            "block3_pool (MaxPooling2D)   (None, 4, 4, 256)         0         \n",
            "_________________________________________________________________\n",
            "activation_10 (Activation)   (None, 4, 4, 256)         0         \n",
            "_________________________________________________________________\n",
            "block4_conv1 (Conv2D)        (None, 4, 4, 512)         1180160   \n",
            "_________________________________________________________________\n",
            "activation_11 (Activation)   (None, 4, 4, 512)         0         \n",
            "_________________________________________________________________\n",
            "block4_conv2 (Conv2D)        (None, 4, 4, 512)         2359808   \n",
            "_________________________________________________________________\n",
            "activation_12 (Activation)   (None, 4, 4, 512)         0         \n",
            "_________________________________________________________________\n",
            "block4_conv3 (Conv2D)        (None, 4, 4, 512)         2359808   \n",
            "_________________________________________________________________\n",
            "activation_13 (Activation)   (None, 4, 4, 512)         0         \n",
            "_________________________________________________________________\n",
            "block4_pool (MaxPooling2D)   (None, 2, 2, 512)         0         \n",
            "_________________________________________________________________\n",
            "activation_14 (Activation)   (None, 2, 2, 512)         0         \n",
            "_________________________________________________________________\n",
            "block5_conv1 (Conv2D)        (None, 2, 2, 512)         2359808   \n",
            "_________________________________________________________________\n",
            "activation_15 (Activation)   (None, 2, 2, 512)         0         \n",
            "_________________________________________________________________\n",
            "block5_conv2 (Conv2D)        (None, 2, 2, 512)         2359808   \n",
            "_________________________________________________________________\n",
            "activation_16 (Activation)   (None, 2, 2, 512)         0         \n",
            "_________________________________________________________________\n",
            "block5_conv3 (Conv2D)        (None, 2, 2, 512)         2359808   \n",
            "_________________________________________________________________\n",
            "activation_17 (Activation)   (None, 2, 2, 512)         0         \n",
            "_________________________________________________________________\n",
            "block5_pool (MaxPooling2D)   (None, 1, 1, 512)         0         \n",
            "_________________________________________________________________\n",
            "activation_18 (Activation)   (None, 1, 1, 512)         0         \n",
            "_________________________________________________________________\n",
            "global_average_pooling2d_1 ( (None, 512)               0         \n",
            "_________________________________________________________________\n",
            "dense_1 (Dense)              (None, 10)                5130      \n",
            "=================================================================\n",
            "Total params: 14,719,818\n",
            "Trainable params: 5,130\n",
            "Non-trainable params: 14,714,688\n",
            "_________________________________________________________________\n"
          ],
          "name": "stdout"
        }
      ]
    },
    {
      "cell_type": "code",
      "metadata": {
        "id": "DfeCw-C2eGWe",
        "colab_type": "code",
        "colab": {
          "base_uri": "https://localhost:8080/",
          "height": 697
        },
        "outputId": "54175e06-9ef5-4c89-ade4-797035677778"
      },
      "source": [
        "NAG = optimizers.SGD(lr=0.01, decay=5e-4, momentum=0.9, nesterov=True)\n",
        "\n",
        "batch = 128\n",
        "epoch = 20\n",
        "\n",
        "model_freeze.compile(optimizer= NAG ,\n",
        "              loss='sparse_categorical_crossentropy',\n",
        "              metrics=['accuracy'])\n",
        "early_stop = callbacks.EarlyStopping(monitor='loss', patience=3, verbose=2)\n",
        "\n",
        "history_freeze = model_freeze.fit(train_images, train_labels,\n",
        "                    epochs=epoch, verbose = 2,\n",
        "                    batch_size=batch,\n",
        "                    validation_data=(test_images, test_labels),\n",
        "                    callbacks=[early_stop])"
      ],
      "execution_count": 13,
      "outputs": [
        {
          "output_type": "stream",
          "text": [
            "Epoch 1/20\n",
            "391/391 - 19s - loss: 1.6480 - accuracy: 0.4347 - val_loss: 1.4841 - val_accuracy: 0.4922\n",
            "Epoch 2/20\n",
            "391/391 - 19s - loss: 1.4236 - accuracy: 0.5137 - val_loss: 1.4097 - val_accuracy: 0.5130\n",
            "Epoch 3/20\n",
            "391/391 - 18s - loss: 1.3685 - accuracy: 0.5333 - val_loss: 1.3684 - val_accuracy: 0.5278\n",
            "Epoch 4/20\n",
            "391/391 - 19s - loss: 1.3371 - accuracy: 0.5418 - val_loss: 1.3496 - val_accuracy: 0.5344\n",
            "Epoch 5/20\n",
            "391/391 - 19s - loss: 1.3174 - accuracy: 0.5493 - val_loss: 1.3336 - val_accuracy: 0.5395\n",
            "Epoch 6/20\n",
            "391/391 - 19s - loss: 1.3017 - accuracy: 0.5552 - val_loss: 1.3240 - val_accuracy: 0.5411\n",
            "Epoch 7/20\n",
            "391/391 - 19s - loss: 1.2895 - accuracy: 0.5590 - val_loss: 1.3165 - val_accuracy: 0.5451\n",
            "Epoch 8/20\n",
            "391/391 - 19s - loss: 1.2808 - accuracy: 0.5613 - val_loss: 1.3049 - val_accuracy: 0.5469\n",
            "Epoch 9/20\n",
            "391/391 - 19s - loss: 1.2723 - accuracy: 0.5649 - val_loss: 1.2994 - val_accuracy: 0.5480\n",
            "Epoch 10/20\n",
            "391/391 - 19s - loss: 1.2653 - accuracy: 0.5673 - val_loss: 1.2970 - val_accuracy: 0.5506\n",
            "Epoch 11/20\n",
            "391/391 - 19s - loss: 1.2601 - accuracy: 0.5701 - val_loss: 1.2909 - val_accuracy: 0.5528\n",
            "Epoch 12/20\n",
            "391/391 - 19s - loss: 1.2550 - accuracy: 0.5696 - val_loss: 1.2860 - val_accuracy: 0.5553\n",
            "Epoch 13/20\n",
            "391/391 - 19s - loss: 1.2504 - accuracy: 0.5719 - val_loss: 1.2842 - val_accuracy: 0.5563\n",
            "Epoch 14/20\n",
            "391/391 - 19s - loss: 1.2468 - accuracy: 0.5735 - val_loss: 1.2776 - val_accuracy: 0.5577\n",
            "Epoch 15/20\n",
            "391/391 - 19s - loss: 1.2432 - accuracy: 0.5754 - val_loss: 1.2778 - val_accuracy: 0.5557\n",
            "Epoch 16/20\n",
            "391/391 - 19s - loss: 1.2402 - accuracy: 0.5752 - val_loss: 1.2746 - val_accuracy: 0.5584\n",
            "Epoch 17/20\n",
            "391/391 - 19s - loss: 1.2370 - accuracy: 0.5758 - val_loss: 1.2719 - val_accuracy: 0.5578\n",
            "Epoch 18/20\n",
            "391/391 - 19s - loss: 1.2345 - accuracy: 0.5779 - val_loss: 1.2684 - val_accuracy: 0.5608\n",
            "Epoch 19/20\n",
            "391/391 - 19s - loss: 1.2321 - accuracy: 0.5781 - val_loss: 1.2697 - val_accuracy: 0.5599\n",
            "Epoch 20/20\n",
            "391/391 - 19s - loss: 1.2300 - accuracy: 0.5797 - val_loss: 1.2682 - val_accuracy: 0.5597\n"
          ],
          "name": "stdout"
        }
      ]
    },
    {
      "cell_type": "code",
      "metadata": {
        "id": "LRB0zp5DeNqt",
        "colab_type": "code",
        "colab": {
          "base_uri": "https://localhost:8080/",
          "height": 296
        },
        "outputId": "084dc257-4f1f-4f61-c6b2-58d785b27856"
      },
      "source": [
        "plt.plot(history_freeze.history['accuracy'], label='accuracy')\n",
        "plt.plot(history_freeze.history['val_accuracy'], label = 'val_accuracy')\n",
        "plt.xlabel('Epoch')\n",
        "plt.ylabel('Accuracy')\n",
        "plt.legend(loc='lower right')\n",
        "test_loss, test_acc = model_freeze.evaluate(test_images,  test_labels, verbose=2)"
      ],
      "execution_count": 17,
      "outputs": [
        {
          "output_type": "stream",
          "text": [
            "313/313 - 6s - loss: 1.2682 - accuracy: 0.5597\n"
          ],
          "name": "stdout"
        },
        {
          "output_type": "display_data",
          "data": {
            "image/png": "[encoded data removed]",
            "text/plain": [
              "<Figure size 432x288 with 1 Axes>"
            ]
          },
          "metadata": {
            "tags": [],
            "needs_background": "light"
          }
        }
      ]
    },
    {
      "cell_type": "code",
      "metadata": {
        "id": "4i4e-vlSeNtc",
        "colab_type": "code",
        "colab": {
          "base_uri": "https://localhost:8080/",
          "height": 296
        },
        "outputId": "4267b9af-c564-44f5-c01b-5fb71758b830"
      },
      "source": [
        "plt.plot(history_freeze.history['loss'], label='loss_1')\n",
        "plt.plot(history_freeze.history['val_loss'], label = 'val_loss_1')\n",
        "plt.xlabel('Epoch')\n",
        "plt.ylabel('loss')\n",
        "plt.legend(loc='upper right')"
      ],
      "execution_count": 18,
      "outputs": [
        {
          "output_type": "execute_result",
          "data": {
            "text/plain": [
              "<matplotlib.legend.Legend at 0x7f38ca556860>"
            ]
          },
          "metadata": {
            "tags": []
          },
          "execution_count": 18
        },
        {
          "output_type": "display_data",
          "data": {
            "image/png": "[encoded data removed]",
            "text/plain": [
              "<Figure size 432x288 with 1 Axes>"
            ]
          },
          "metadata": {
            "tags": [],
            "needs_background": "light"
          }
        }
      ]
    }
  ]
}