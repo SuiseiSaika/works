{
  "nbformat": 4,
  "nbformat_minor": 0,
  "metadata": {
    "colab": {
      "name": "TF2G_TransferLearning",
      "provenance": [],
      "collapsed_sections": [
        "OSew6gi3goiy"
      ],
      "machine_shape": "hm"
    },
    "kernelspec": {
      "name": "python3",
      "display_name": "Python 3"
    },
    "accelerator": "GPU"
  },
  "cells": [
    {
      "cell_type": "code",
      "metadata": {
        "id": "PXNUanZvcwwZ",
        "colab_type": "code",
        "colab": {}
      },
      "source": [
        "%tensorflow_version 2.x"
      ],
      "execution_count": 0,
      "outputs": []
    },
    {
      "cell_type": "code",
      "metadata": {
        "id": "tS5xFeQwe9Xu",
        "colab_type": "code",
        "colab": {}
      },
      "source": [
        "import matplotlib.pyplot as plt\n",
        "import numpy as np\n",
        "from tensorflow.keras import *\n",
        "from tensorflow.keras.models import Sequential\n",
        "from tensorflow.keras.layers import *\n",
        "from tensorflow.keras.optimizers import SGD, Adam\n",
        "from tensorflow.keras import datasets\n",
        "from tensorflow.keras.utils import to_categorical\n",
        "from tensorflow.keras.applications import *"
      ],
      "execution_count": 0,
      "outputs": []
    },
    {
      "cell_type": "code",
      "metadata": {
        "id": "ITug7sp2TAr5",
        "colab_type": "code",
        "colab": {}
      },
      "source": [
        "# Load CIFAR 10\n",
        "(X_train, y_train), (X_test, y_test) = datasets.cifar10.load_data()\n",
        "\n",
        "# Normalize the range of featurs\n",
        "X_train = X_train / X_train.max()\n",
        "X_test = X_test / X_test.max()"
      ],
      "execution_count": 0,
      "outputs": []
    },
    {
      "cell_type": "code",
      "metadata": {
        "id": "6E91OqULARAW",
        "colab_type": "code",
        "colab": {}
      },
      "source": [
        "model = models.Sequential()\n",
        "conv = VGG16(include_top=False, weights=\"imagenet\", input_shape=(32, 32, 3), pooling='max')\n",
        "for l in range(len(conv.layers)-2):\n",
        "    layer = conv.layers[l]\n",
        "    layer.trainable = False\n",
        "    model.add(layer)\n",
        "    model.add(layers.Activation('elu'))\n",
        "model.add(layers.GlobalAveragePooling2D())\n",
        "model.add(layers.Dense(10, activation='softmax'))"
      ],
      "execution_count": 0,
      "outputs": []
    },
    {
      "cell_type": "code",
      "metadata": {
        "id": "baPCLDtpA4iE",
        "colab_type": "code",
        "colab": {
          "base_uri": "https://localhost:8080/",
          "height": 1000
        },
        "outputId": "272611e2-41c2-492b-9554-887a8223d340"
      },
      "source": [
        "model.summary()"
      ],
      "execution_count": 5,
      "outputs": [
        {
          "output_type": "stream",
          "text": [
            "Model: \"sequential\"\n",
            "_________________________________________________________________\n",
            "Layer (type)                 Output Shape              Param #   \n",
            "=================================================================\n",
            "activation (Activation)      (None, 32, 32, 3)         0         \n",
            "_________________________________________________________________\n",
            "block1_conv1 (Conv2D)        (None, 32, 32, 64)        1792      \n",
            "_________________________________________________________________\n",
            "activation_1 (Activation)    (None, 32, 32, 64)        0         \n",
            "_________________________________________________________________\n",
            "block1_conv2 (Conv2D)        (None, 32, 32, 64)        36928     \n",
            "_________________________________________________________________\n",
            "activation_2 (Activation)    (None, 32, 32, 64)        0         \n",
            "_________________________________________________________________\n",
            "block1_pool (MaxPooling2D)   (None, 16, 16, 64)        0         \n",
            "_________________________________________________________________\n",
            "activation_3 (Activation)    (None, 16, 16, 64)        0         \n",
            "_________________________________________________________________\n",
            "block2_conv1 (Conv2D)        (None, 16, 16, 128)       73856     \n",
            "_________________________________________________________________\n",
            "activation_4 (Activation)    (None, 16, 16, 128)       0         \n",
            "_________________________________________________________________\n",
            "block2_conv2 (Conv2D)        (None, 16, 16, 128)       147584    \n",
            "_________________________________________________________________\n",
            "activation_5 (Activation)    (None, 16, 16, 128)       0         \n",
            "_________________________________________________________________\n",
            "block2_pool (MaxPooling2D)   (None, 8, 8, 128)         0         \n",
            "_________________________________________________________________\n",
            "activation_6 (Activation)    (None, 8, 8, 128)         0         \n",
            "_________________________________________________________________\n",
            "block3_conv1 (Conv2D)        (None, 8, 8, 256)         295168    \n",
            "_________________________________________________________________\n",
            "activation_7 (Activation)    (None, 8, 8, 256)         0         \n",
            "_________________________________________________________________\n",
            "block3_conv2 (Conv2D)        (None, 8, 8, 256)         590080    \n",
            "_________________________________________________________________\n",
            "activation_8 (Activation)    (None, 8, 8, 256)         0         \n",
            "_________________________________________________________________\n",
            "block3_conv3 (Conv2D)        (None, 8, 8, 256)         590080    \n",
            "_________________________________________________________________\n",
            "activation_9 (Activation)    (None, 8, 8, 256)         0         \n",
            "_________________________________________________________________\n",
            "block3_pool (MaxPooling2D)   (None, 4, 4, 256)         0         \n",
            "_________________________________________________________________\n",
            "activation_10 (Activation)   (None, 4, 4, 256)         0         \n",
            "_________________________________________________________________\n",
            "block4_conv1 (Conv2D)        (None, 4, 4, 512)         1180160   \n",
            "_________________________________________________________________\n",
            "activation_11 (Activation)   (None, 4, 4, 512)         0         \n",
            "_________________________________________________________________\n",
            "block4_conv2 (Conv2D)        (None, 4, 4, 512)         2359808   \n",
            "_________________________________________________________________\n",
            "activation_12 (Activation)   (None, 4, 4, 512)         0         \n",
            "_________________________________________________________________\n",
            "block4_conv3 (Conv2D)        (None, 4, 4, 512)         2359808   \n",
            "_________________________________________________________________\n",
            "activation_13 (Activation)   (None, 4, 4, 512)         0         \n",
            "_________________________________________________________________\n",
            "block4_pool (MaxPooling2D)   (None, 2, 2, 512)         0         \n",
            "_________________________________________________________________\n",
            "activation_14 (Activation)   (None, 2, 2, 512)         0         \n",
            "_________________________________________________________________\n",
            "block5_conv1 (Conv2D)        (None, 2, 2, 512)         2359808   \n",
            "_________________________________________________________________\n",
            "activation_15 (Activation)   (None, 2, 2, 512)         0         \n",
            "_________________________________________________________________\n",
            "block5_conv2 (Conv2D)        (None, 2, 2, 512)         2359808   \n",
            "_________________________________________________________________\n",
            "activation_16 (Activation)   (None, 2, 2, 512)         0         \n",
            "_________________________________________________________________\n",
            "block5_conv3 (Conv2D)        (None, 2, 2, 512)         2359808   \n",
            "_________________________________________________________________\n",
            "activation_17 (Activation)   (None, 2, 2, 512)         0         \n",
            "_________________________________________________________________\n",
            "global_average_pooling2d (Gl (None, 512)               0         \n",
            "_________________________________________________________________\n",
            "dense (Dense)                (None, 10)                5130      \n",
            "=================================================================\n",
            "Total params: 14,719,818\n",
            "Trainable params: 5,130\n",
            "Non-trainable params: 14,714,688\n",
            "_________________________________________________________________\n"
          ],
          "name": "stdout"
        }
      ]
    },
    {
      "cell_type": "code",
      "metadata": {
        "id": "86fvl2DHcKwj",
        "colab_type": "code",
        "colab": {}
      },
      "source": [
        "model.compile(loss='sparse_categorical_crossentropy', \n",
        "              optimizer=Adam(1e-2),\n",
        "              metrics=['accuracy'])"
      ],
      "execution_count": 0,
      "outputs": []
    },
    {
      "cell_type": "code",
      "metadata": {
        "id": "LVdaaVOJcKrk",
        "colab_type": "code",
        "colab": {
          "base_uri": "https://localhost:8080/",
          "height": 1000
        },
        "outputId": "6a88657c-2f3b-41a5-c7fa-084493dca888"
      },
      "source": [
        "early_stop = callbacks.EarlyStopping(monitor='val_accuracy', patience=10, verbose=2)\n",
        "h = model.fit(X_train, y_train, \n",
        "              batch_size=256, \n",
        "              epochs=100,\n",
        "              validation_data=(X_test, y_test),\n",
        "              verbose = 2,\n",
        "              callbacks=[early_stop])"
      ],
      "execution_count": 7,
      "outputs": [
        {
          "output_type": "stream",
          "text": [
            "Epoch 1/100\n",
            "196/196 - 17s - loss: 1.4695 - accuracy: 0.4957 - val_loss: 1.3387 - val_accuracy: 0.5356\n",
            "Epoch 2/100\n",
            "196/196 - 16s - loss: 1.2688 - accuracy: 0.5631 - val_loss: 1.2790 - val_accuracy: 0.5570\n",
            "Epoch 3/100\n",
            "196/196 - 16s - loss: 1.2249 - accuracy: 0.5753 - val_loss: 1.2498 - val_accuracy: 0.5641\n",
            "Epoch 4/100\n",
            "196/196 - 16s - loss: 1.1990 - accuracy: 0.5859 - val_loss: 1.2310 - val_accuracy: 0.5752\n",
            "Epoch 5/100\n",
            "196/196 - 16s - loss: 1.1823 - accuracy: 0.5907 - val_loss: 1.2262 - val_accuracy: 0.5768\n",
            "Epoch 6/100\n",
            "196/196 - 16s - loss: 1.1746 - accuracy: 0.5944 - val_loss: 1.2280 - val_accuracy: 0.5775\n",
            "Epoch 7/100\n",
            "196/196 - 16s - loss: 1.1674 - accuracy: 0.5960 - val_loss: 1.2371 - val_accuracy: 0.5734\n",
            "Epoch 8/100\n",
            "196/196 - 16s - loss: 1.1609 - accuracy: 0.5988 - val_loss: 1.2252 - val_accuracy: 0.5722\n",
            "Epoch 9/100\n",
            "196/196 - 16s - loss: 1.1549 - accuracy: 0.5994 - val_loss: 1.2203 - val_accuracy: 0.5764\n",
            "Epoch 10/100\n",
            "196/196 - 16s - loss: 1.1506 - accuracy: 0.6020 - val_loss: 1.2240 - val_accuracy: 0.5799\n",
            "Epoch 11/100\n",
            "196/196 - 16s - loss: 1.1479 - accuracy: 0.6028 - val_loss: 1.2223 - val_accuracy: 0.5746\n",
            "Epoch 12/100\n",
            "196/196 - 16s - loss: 1.1467 - accuracy: 0.6028 - val_loss: 1.2369 - val_accuracy: 0.5719\n",
            "Epoch 13/100\n",
            "196/196 - 16s - loss: 1.1464 - accuracy: 0.6016 - val_loss: 1.2188 - val_accuracy: 0.5746\n",
            "Epoch 14/100\n",
            "196/196 - 16s - loss: 1.1430 - accuracy: 0.6058 - val_loss: 1.2209 - val_accuracy: 0.5769\n",
            "Epoch 15/100\n",
            "196/196 - 16s - loss: 1.1426 - accuracy: 0.6049 - val_loss: 1.2262 - val_accuracy: 0.5736\n",
            "Epoch 16/100\n",
            "196/196 - 16s - loss: 1.1404 - accuracy: 0.6055 - val_loss: 1.2184 - val_accuracy: 0.5803\n",
            "Epoch 17/100\n",
            "196/196 - 16s - loss: 1.1395 - accuracy: 0.6052 - val_loss: 1.2286 - val_accuracy: 0.5770\n",
            "Epoch 18/100\n",
            "196/196 - 16s - loss: 1.1374 - accuracy: 0.6055 - val_loss: 1.2246 - val_accuracy: 0.5750\n",
            "Epoch 19/100\n",
            "196/196 - 16s - loss: 1.1354 - accuracy: 0.6070 - val_loss: 1.2190 - val_accuracy: 0.5816\n",
            "Epoch 20/100\n",
            "196/196 - 16s - loss: 1.1386 - accuracy: 0.6050 - val_loss: 1.2294 - val_accuracy: 0.5723\n",
            "Epoch 21/100\n",
            "196/196 - 16s - loss: 1.1361 - accuracy: 0.6067 - val_loss: 1.2219 - val_accuracy: 0.5774\n",
            "Epoch 22/100\n",
            "196/196 - 16s - loss: 1.1369 - accuracy: 0.6068 - val_loss: 1.2302 - val_accuracy: 0.5782\n",
            "Epoch 23/100\n",
            "196/196 - 16s - loss: 1.1347 - accuracy: 0.6065 - val_loss: 1.2271 - val_accuracy: 0.5782\n",
            "Epoch 24/100\n",
            "196/196 - 16s - loss: 1.1367 - accuracy: 0.6076 - val_loss: 1.2236 - val_accuracy: 0.5785\n",
            "Epoch 25/100\n",
            "196/196 - 16s - loss: 1.1339 - accuracy: 0.6067 - val_loss: 1.2259 - val_accuracy: 0.5808\n",
            "Epoch 26/100\n",
            "196/196 - 16s - loss: 1.1318 - accuracy: 0.6085 - val_loss: 1.2424 - val_accuracy: 0.5687\n",
            "Epoch 27/100\n",
            "196/196 - 16s - loss: 1.1331 - accuracy: 0.6082 - val_loss: 1.2381 - val_accuracy: 0.5748\n",
            "Epoch 28/100\n",
            "196/196 - 16s - loss: 1.1316 - accuracy: 0.6082 - val_loss: 1.2271 - val_accuracy: 0.5787\n",
            "Epoch 29/100\n",
            "196/196 - 16s - loss: 1.1320 - accuracy: 0.6099 - val_loss: 1.2229 - val_accuracy: 0.5759\n",
            "Epoch 00029: early stopping\n"
          ],
          "name": "stdout"
        }
      ]
    },
    {
      "cell_type": "code",
      "metadata": {
        "id": "utrVR2nTRRjI",
        "colab_type": "code",
        "colab": {
          "base_uri": "https://localhost:8080/",
          "height": 296
        },
        "outputId": "3eee8f7a-782e-44bf-814a-29dc71db3004"
      },
      "source": [
        "plt.plot(h.history['accuracy'], label='accuracy')\n",
        "plt.plot(h.history['val_accuracy'], label = 'val_accuracy')\n",
        "plt.xlabel('Epoch')\n",
        "plt.ylabel('Accuracy')\n",
        "# plt.ylim([0.5, 1])\n",
        "plt.legend(loc='lower right')"
      ],
      "execution_count": 8,
      "outputs": [
        {
          "output_type": "execute_result",
          "data": {
            "text/plain": [
              "<matplotlib.legend.Legend at 0x7ff43320e518>"
            ]
          },
          "metadata": {
            "tags": []
          },
          "execution_count": 8
        },
        {
          "output_type": "display_data",
          "data": {
            "image/png": "[encoded data removed]",
            "text/plain": [
              "<Figure size 432x288 with 1 Axes>"
            ]
          },
          "metadata": {
            "tags": [],
            "needs_background": "light"
          }
        }
      ]
    },
    {
      "cell_type": "code",
      "metadata": {
        "id": "piRaBMb_RXiX",
        "colab_type": "code",
        "colab": {
          "base_uri": "https://localhost:8080/",
          "height": 296
        },
        "outputId": "480b70bc-6a50-4531-816a-0de5eff7af35"
      },
      "source": [
        "plt.plot(h.history['loss'], label='loss')\n",
        "plt.plot(h.history['val_loss'], label = 'val_loss')\n",
        "plt.xlabel('Epoch')\n",
        "plt.ylabel('loss')\n",
        "# plt.ylim([0, 1])\n",
        "plt.legend(loc='upper right')"
      ],
      "execution_count": 9,
      "outputs": [
        {
          "output_type": "execute_result",
          "data": {
            "text/plain": [
              "<matplotlib.legend.Legend at 0x7ff43328c860>"
            ]
          },
          "metadata": {
            "tags": []
          },
          "execution_count": 9
        },
        {
          "output_type": "display_data",
          "data": {
            "image/png": "[encoded data removed]",
            "text/plain": [
              "<Figure size 432x288 with 1 Axes>"
            ]
          },
          "metadata": {
            "tags": [],
            "needs_background": "light"
          }
        }
      ]
    },
    {
      "cell_type": "code",
      "metadata": {
        "id": "8jYVEtgJvBIe",
        "colab_type": "code",
        "colab": {
          "base_uri": "https://localhost:8080/",
          "height": 85
        },
        "outputId": "291637a5-56a2-4f52-a481-f30f9e24201e"
      },
      "source": [
        "score_train = model.evaluate(X_train, y_train)\n",
        "score_test = model.evaluate(X_test, y_test)\n",
        "\n",
        "print(f'Train Accuracy: {score_train[1]*100}')\n",
        "print(f'Test Accuracy: {score_test[1]*100}')"
      ],
      "execution_count": 10,
      "outputs": [
        {
          "output_type": "stream",
          "text": [
            "1563/1563 [==============================] - 28s 18ms/step - loss: 1.1121 - accuracy: 0.6163\n",
            "313/313 [==============================] - 6s 18ms/step - loss: 1.2229 - accuracy: 0.5759\n",
            "Train Accuracy: 61.625999212265015\n",
            "Test Accuracy: 57.590001821517944\n"
          ],
          "name": "stdout"
        }
      ]
    }
  ]
}